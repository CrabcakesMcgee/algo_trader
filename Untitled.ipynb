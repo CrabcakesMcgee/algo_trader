{
 "cells": [
  {
   "cell_type": "markdown",
   "metadata": {},
   "source": [
    "NOTE: the code pulled is an example of how I pulled data for SPY ticket for Mar22 - Mar26. This code was re-ran for each date. Graphs were saved, and shown below in notebook.\n",
    "First, we must import the necessary packages:"
   ]
  },
  {
   "cell_type": "code",
   "execution_count": null,
   "metadata": {},
   "outputs": [],
   "source": [
    "#Import\n",
    "import numpy as np\n",
    "import requests\n",
    "import pandas as pd\n",
    "import researchpy\n",
    "import matplotlib\n",
    "matplotlib.use(\"Agg\")\n",
    "import matplotlib.pyplot as plt\n",
    "import config"
   ]
  },
  {
   "cell_type": "markdown",
   "metadata": {},
   "source": [
    "I created a config.py file which contains the urls, and my personal API key. We are pulling data for SPY ticket at one minute intervals:"
   ]
  },
  {
   "cell_type": "code",
   "execution_count": null,
   "metadata": {},
   "outputs": [],
   "source": [
    "#Pull data\n",
    "URL = config.Mar22\n",
    "r = requests.get(URL, params = {'apikey': config.api_key})\n",
    "priceWave = r.json()\n",
    "prices = priceWave['candles']"
   ]
  },
  {
   "cell_type": "markdown",
   "metadata": {},
   "source": [
    "Next, we convert time from milliseconds since Epoch to Eastern, and only keep the hours, minutes, and seconds:"
   ]
  },
  {
   "cell_type": "code",
   "execution_count": null,
   "metadata": {},
   "outputs": [],
   "source": [
    "#Convert time\n",
    "df = pd.DataFrame(prices)\n",
    "df['datetime'] = pd.to_datetime(df['datetime'], unit='ms')\n",
    "df['time'] = df['datetime'].dt.tz_localize('UTC').dt.tz_convert('US/Eastern')\n",
    "df['time'] = df['time'].dt.time\n",
    "df.drop(columns=['datetime'])\n",
    "df.drop(['datetime'], axis=1, inplace=True)"
   ]
  },
  {
   "cell_type": "markdown",
   "metadata": {},
   "source": [
    "Find average price of each minute:"
   ]
  },
  {
   "cell_type": "code",
   "execution_count": null,
   "metadata": {},
   "outputs": [],
   "source": [
    "#AVG\n",
    "df['AVG'] = (((df['high'] + df['low'] + df['close']) / 3).round(2))"
   ]
  },
  {
   "cell_type": "markdown",
   "metadata": {},
   "source": [
    "Find Volume Weighted Adjusted Price (VWAP):"
   ]
  },
  {
   "cell_type": "code",
   "execution_count": null,
   "metadata": {},
   "outputs": [],
   "source": [
    "#VWAP\n",
    "df['PV'] = (df['AVG'] * df['volume']).round(2)\n",
    "df['cumPV'] = (np.cumsum(df['PV'])).round(2)\n",
    "df['cumV'] = (np.cumsum(df['volume'])).round(2)\n",
    "df['VWAP'] = (df['cumPV'] / df['cumV']).round(2)"
   ]
  },
  {
   "cell_type": "markdown",
   "metadata": {},
   "source": [
    "Find Exponential Moving Average (EMA):"
   ]
  },
  {
   "cell_type": "code",
   "execution_count": null,
   "metadata": {},
   "outputs": [],
   "source": [
    "#EMA\n",
    "df['EMA'] = df['AVG'].ewm(span=7, adjust=False).mean()"
   ]
  },
  {
   "cell_type": "markdown",
   "metadata": {},
   "source": [
    "Plot data example:"
   ]
  },
  {
   "cell_type": "code",
   "execution_count": null,
   "metadata": {
    "scrolled": true
   },
   "outputs": [],
   "source": [
    "# Data for plotting\n",
    "fig = plt.figure(figsize=[15,10])\n",
    "plt.grid(True)\n",
    "plt.plot(df['AVG'],label='price')\n",
    "plt.plot(df['VWAP'],label='VWAP')\n",
    "plt.plot(df['EMA'],label='EMA')\n",
    "plt.xlabel(\"index\")\n",
    "plt.ylabel(\"price\")\n",
    "plt.legend(loc=2)\n",
    "fig.savefig(\"graphMar22.png\")"
   ]
  },
  {
   "cell_type": "markdown",
   "metadata": {},
   "source": [
    "Graph for March 23:"
   ]
  },
  {
   "cell_type": "code",
   "execution_count": null,
   "metadata": {},
   "outputs": [],
   "source": [
    "from IPython.display import Image\n",
    "Image(filename='graphMar23.png')"
   ]
  },
  {
   "cell_type": "markdown",
   "metadata": {},
   "source": [
    "Graph for March 24:"
   ]
  },
  {
   "cell_type": "code",
   "execution_count": null,
   "metadata": {},
   "outputs": [],
   "source": [
    "from IPython.display import Image\n",
    "Image(filename='graphMar24.png')"
   ]
  },
  {
   "cell_type": "markdown",
   "metadata": {},
   "source": [
    "Graph for March 25:"
   ]
  },
  {
   "cell_type": "code",
   "execution_count": null,
   "metadata": {
    "scrolled": true
   },
   "outputs": [],
   "source": [
    "from IPython.display import Image\n",
    "Image(filename='graphMar25.png')"
   ]
  },
  {
   "cell_type": "markdown",
   "metadata": {},
   "source": [
    "Graph for March 26:"
   ]
  },
  {
   "cell_type": "code",
   "execution_count": null,
   "metadata": {},
   "outputs": [],
   "source": [
    "from IPython.display import Image\n",
    "Image(filename='graphMar26.png')"
   ]
  },
  {
   "cell_type": "markdown",
   "metadata": {},
   "source": [
    "#t-test AVG. Example for March 22:"
   ]
  },
  {
   "cell_type": "code",
   "execution_count": null,
   "metadata": {},
   "outputs": [],
   "source": [
    "#t-test\n",
    "researchpy.ttest(df['AVG'], df['EMA'])"
   ]
  },
  {
   "cell_type": "markdown",
   "metadata": {},
   "source": [
    "#t-test VWAP. Example for March 22:"
   ]
  },
  {
   "cell_type": "code",
   "execution_count": null,
   "metadata": {},
   "outputs": [],
   "source": [
    "#t-test\n",
    "researchpy.ttest(df['AVG'], df['VWAP'])"
   ]
  }
 ],
 "metadata": {
  "kernelspec": {
   "display_name": "Python 3",
   "language": "python",
   "name": "python3"
  },
  "language_info": {
   "codemirror_mode": {
    "name": "ipython",
    "version": 3
   },
   "file_extension": ".py",
   "mimetype": "text/x-python",
   "name": "python",
   "nbconvert_exporter": "python",
   "pygments_lexer": "ipython3",
   "version": "3.8.5"
  }
 },
 "nbformat": 4,
 "nbformat_minor": 4
}
