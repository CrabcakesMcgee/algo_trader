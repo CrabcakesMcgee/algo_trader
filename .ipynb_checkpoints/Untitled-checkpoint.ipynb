{
 "cells": [
  {
   "cell_type": "code",
   "execution_count": 41,
   "metadata": {},
   "outputs": [],
   "source": [
    "#Import\n",
    "import numpy as np\n",
    "import requests\n",
    "import pandas as pd\n",
    "import researchpy\n",
    "import matplotlib\n",
    "matplotlib.use(\"Agg\")\n",
    "import matplotlib.pyplot as plt\n",
    "import config"
   ]
  },
  {
   "cell_type": "code",
   "execution_count": 42,
   "metadata": {},
   "outputs": [],
   "source": [
    "#Pull data\n",
    "URL = config.Mar26\n",
    "r = requests.get(URL, params = {'apikey': config.api_key})\n",
    "priceWave = r.json()\n",
    "prices = priceWave['candles']"
   ]
  },
  {
   "cell_type": "code",
   "execution_count": 43,
   "metadata": {},
   "outputs": [],
   "source": [
    "#Convert time\n",
    "df = pd.DataFrame(prices)\n",
    "df['datetime'] = pd.to_datetime(df['datetime'], unit='ms')\n",
    "df['time'] = df['datetime'].dt.tz_localize('UTC').dt.tz_convert('US/Eastern')\n",
    "df['time'] = df['time'].dt.time\n",
    "df.drop(columns=['datetime'])\n",
    "df.drop(['datetime'], axis=1, inplace=True)"
   ]
  },
  {
   "cell_type": "code",
   "execution_count": 44,
   "metadata": {},
   "outputs": [],
   "source": [
    "#AVG\n",
    "df['AVG'] = (((df['high'] + df['low'] + df['close']) / 3).round(2))"
   ]
  },
  {
   "cell_type": "code",
   "execution_count": 45,
   "metadata": {},
   "outputs": [],
   "source": [
    "#VWAP\n",
    "df['PV'] = (df['AVG'] * df['volume']).round(2)\n",
    "df['cumPV'] = (np.cumsum(df['PV'])).round(2)\n",
    "df['cumV'] = (np.cumsum(df['volume'])).round(2)\n",
    "df['VWAP'] = (df['cumPV'] / df['cumV']).round(2)"
   ]
  },
  {
   "cell_type": "code",
   "execution_count": 46,
   "metadata": {},
   "outputs": [],
   "source": [
    "#EMA\n",
    "df['EMA'] = df['AVG'].ewm(span=7, adjust=False).mean()"
   ]
  },
  {
   "cell_type": "code",
   "execution_count": 47,
   "metadata": {},
   "outputs": [
    {
     "data": {
      "text/plain": [
       "(   Variable       N        Mean        SD        SE   95% Conf.    Interval\n",
       " 0       AVG   717.0  392.632803  2.000286  0.074702  392.486142  392.779465\n",
       " 1       EMA   717.0  392.611820  1.985272  0.074141  392.466260  392.757380\n",
       " 2  combined  1434.0  392.622312  1.992126  0.052607  392.519117  392.725506,\n",
       "           Independent t-test    results\n",
       " 0  Difference (AVG - EMA) =      0.0210\n",
       " 1      Degrees of freedom =   1432.0000\n",
       " 2                       t =      0.1994\n",
       " 3   Two side test p value =      0.8420\n",
       " 4  Difference < 0 p value =      0.5790\n",
       " 5  Difference > 0 p value =      0.4210\n",
       " 6               Cohen's d =      0.0105\n",
       " 7               Hedge's g =      0.0105\n",
       " 8           Glass's delta =      0.0105\n",
       " 9                       r =      0.0053)"
      ]
     },
     "execution_count": 47,
     "metadata": {},
     "output_type": "execute_result"
    }
   ],
   "source": [
    "#t-test\n",
    "df['AVG'].mean()\n",
    "df['EMA'].mean()\n",
    "researchpy.ttest(df['AVG'], df['EMA'])"
   ]
  },
  {
   "cell_type": "code",
   "execution_count": 48,
   "metadata": {},
   "outputs": [],
   "source": [
    "# Data for plotting\n",
    "fig = plt.figure(figsize=[15,10])\n",
    "plt.grid(True)\n",
    "plt.plot(df['AVG'],label='price')\n",
    "plt.plot(df['VWAP'],label='VWAP')\n",
    "plt.plot(df['EMA'],label='EMA')\n",
    "#plt.plot = sns.lineplot(df['EMA'], df['AVG'])\n",
    "plt.xlabel(\"index\")\n",
    "plt.ylabel(\"price\")\n",
    "plt.legend(loc=2)"
   ]
  },
  {
   "cell_type": "code",
   "execution_count": null,
   "metadata": {},
   "outputs": [],
   "source": []
  },
  {
   "cell_type": "code",
   "execution_count": null,
   "metadata": {},
   "outputs": [],
   "source": []
  },
  {
   "cell_type": "code",
   "execution_count": null,
   "metadata": {},
   "outputs": [],
   "source": []
  }
 ],
 "metadata": {
  "kernelspec": {
   "display_name": "Python 3",
   "language": "python",
   "name": "python3"
  },
  "language_info": {
   "codemirror_mode": {
    "name": "ipython",
    "version": 3
   },
   "file_extension": ".py",
   "mimetype": "text/x-python",
   "name": "python",
   "nbconvert_exporter": "python",
   "pygments_lexer": "ipython3",
   "version": "3.8.5"
  }
 },
 "nbformat": 4,
 "nbformat_minor": 4
}
