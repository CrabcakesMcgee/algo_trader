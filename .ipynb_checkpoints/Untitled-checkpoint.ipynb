{
 "cells": [
  {
   "cell_type": "code",
   "execution_count": 30,
   "metadata": {},
   "outputs": [],
   "source": [
    "#Import\n",
    "import numpy as np\n",
    "import requests\n",
    "import pandas as pd\n",
    "import config"
   ]
  },
  {
   "cell_type": "code",
   "execution_count": 31,
   "metadata": {},
   "outputs": [],
   "source": [
    "#Pull data\n",
    "URL = config.Mar26\n",
    "r = requests.get(URL, params = {'apikey': config.api_key})\n",
    "priceWave = r.json()\n",
    "prices = priceWave['candles']"
   ]
  },
  {
   "cell_type": "code",
   "execution_count": 32,
   "metadata": {},
   "outputs": [],
   "source": [
    "#Convert time\n",
    "df = pd.DataFrame(prices)\n",
    "df['datetime'] = pd.to_datetime(df['datetime'], unit='ms')\n",
    "df['time'] = df['datetime'].dt.tz_localize('UTC').dt.tz_convert('US/Eastern')\n",
    "df['time'] = df['time'].dt.time\n",
    "df.drop(columns=['datetime'])\n",
    "df.drop(['datetime'], axis=1, inplace=True)"
   ]
  },
  {
   "cell_type": "code",
   "execution_count": 33,
   "metadata": {},
   "outputs": [],
   "source": [
    "#AVG\n",
    "df['AVG'] = (((df['high'] + df['low'] + df['close']) / 3).round(2))"
   ]
  },
  {
   "cell_type": "code",
   "execution_count": 34,
   "metadata": {},
   "outputs": [],
   "source": [
    "#VWAP\n",
    "df['PV'] = (df['AVG'] * df['volume']).round(2)\n",
    "df['cumPV'] = (np.cumsum(df['PV'])).round(2)\n",
    "df['cumV'] = (np.cumsum(df['volume'])).round(2)\n",
    "df['VWAP'] = (df['cumPV'] / df['cumV']).round(2)"
   ]
  },
  {
   "cell_type": "code",
   "execution_count": 35,
   "metadata": {},
   "outputs": [],
   "source": [
    "#EMA\n",
    "df['EMA'] = df['AVG'].ewm(span=7, adjust=False).mean()"
   ]
  },
  {
   "cell_type": "code",
   "execution_count": 36,
   "metadata": {},
   "outputs": [],
   "source": [
    "# Data for plotting\n",
    "import matplotlib\n",
    "matplotlib.use(\"Agg\")\n",
    "import matplotlib.pyplot as plt\n",
    "\n",
    "fig = plt.figure(figsize=[15,10])\n",
    "plt.grid(True)\n",
    "plt.plot(df['AVG'],label='price')\n",
    "plt.plot(df['VWAP'],label='VWAP')\n",
    "plt.plot(df['EMA'],label='EMA')\n",
    "plt.xlabel(\"index\")\n",
    "plt.ylabel(\"price\")\n",
    "plt.legend(loc=2)\n",
    "fig.savefig(\"graphMar26.png\")"
   ]
  },
  {
   "cell_type": "code",
   "execution_count": null,
   "metadata": {},
   "outputs": [],
   "source": []
  }
 ],
 "metadata": {
  "kernelspec": {
   "display_name": "Python 3",
   "language": "python",
   "name": "python3"
  },
  "language_info": {
   "codemirror_mode": {
    "name": "ipython",
    "version": 3
   },
   "file_extension": ".py",
   "mimetype": "text/x-python",
   "name": "python",
   "nbconvert_exporter": "python",
   "pygments_lexer": "ipython3",
   "version": "3.8.5"
  }
 },
 "nbformat": 4,
 "nbformat_minor": 4
}
